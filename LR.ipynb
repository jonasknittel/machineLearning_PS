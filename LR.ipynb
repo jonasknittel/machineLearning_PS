{
 "cells": [
  {
   "cell_type": "code",
   "execution_count": null,
   "id": "bd45cc54",
   "metadata": {},
   "outputs": [],
   "source": [
    "import pandas as pd\n",
    "from sklearn.model_selection import train_test_split"
   ]
  },
  {
   "cell_type": "code",
   "execution_count": 9,
   "id": "450151ae",
   "metadata": {},
   "outputs": [],
   "source": [
    "# read csv, split data and target\n",
    "\n",
    "df = pd.read_csv('transactions.csv')\n",
    "\n",
    "X = df.drop('Class', axis=1)\n",
    "y = df['Class']"
   ]
  },
  {
   "cell_type": "code",
   "execution_count": null,
   "id": "2e2e64d5",
   "metadata": {},
   "outputs": [
    {
     "name": "stdout",
     "output_type": "stream",
     "text": [
      "number of samples: 227845, number of features: 31\n"
     ]
    }
   ],
   "source": [
    "# Count features and rows of data for general picture\n",
    "\n",
    "n_samples, n_features = df.shape\n",
    "print(f'number of samples: {n_samples}, number of features: {n_features}')"
   ]
  },
  {
   "cell_type": "code",
   "execution_count": null,
   "id": "a237b60e",
   "metadata": {},
   "outputs": [],
   "source": [
    "# split data in test and training data\n",
    "\n",
    "X_train, X_test, y_train, y_test = train_test_split(X, y, test_size=0.2, random_state=1234)"
   ]
  }
 ],
 "metadata": {
  "kernelspec": {
   "display_name": "base",
   "language": "python",
   "name": "python3"
  },
  "language_info": {
   "codemirror_mode": {
    "name": "ipython",
    "version": 3
   },
   "file_extension": ".py",
   "mimetype": "text/x-python",
   "name": "python",
   "nbconvert_exporter": "python",
   "pygments_lexer": "ipython3",
   "version": "3.12.7"
  }
 },
 "nbformat": 4,
 "nbformat_minor": 5
}
