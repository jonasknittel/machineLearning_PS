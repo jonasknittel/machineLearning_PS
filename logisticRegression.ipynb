{
 "cells": [
  {
   "cell_type": "code",
   "execution_count": 138,
   "id": "bd45cc54",
   "metadata": {},
   "outputs": [],
   "source": [
    "import pandas as pd\n",
    "import torch\n",
    "import torch.nn as nn\n",
    "import numpy as np\n",
    "from sklearn.model_selection import train_test_split\n",
    "from sklearn.preprocessing import StandardScaler\n",
    "from sklearn.metrics import classification_report"
   ]
  },
  {
   "cell_type": "code",
   "execution_count": 139,
   "id": "450151ae",
   "metadata": {},
   "outputs": [
    {
     "name": "stdout",
     "output_type": "stream",
     "text": [
      "Number of class 1 entries: 394\n"
     ]
    }
   ],
   "source": [
    "# read csv, split data and target\n",
    "\n",
    "df = pd.read_csv('transactions.csv')\n",
    "\n",
    "X = df.drop('Class', axis=1)\n",
    "y = df['Class']\n",
    "\n",
    "count_1 = (df['Class'] == 1).sum()\n",
    "print(f'Number of class 1 entries: {count_1}')"
   ]
  },
  {
   "cell_type": "code",
   "execution_count": 140,
   "id": "2e2e64d5",
   "metadata": {},
   "outputs": [
    {
     "name": "stdout",
     "output_type": "stream",
     "text": [
      "number of samples: 227845, number of features: 30\n"
     ]
    }
   ],
   "source": [
    "# Count features and rows of data for general picture\n",
    "\n",
    "n_samples, n_features = df.shape\n",
    "n_features -= 1\n",
    "print(f'number of samples: {n_samples}, number of features: {n_features}')"
   ]
  },
  {
   "cell_type": "code",
   "execution_count": 141,
   "id": "a237b60e",
   "metadata": {},
   "outputs": [],
   "source": [
    "# split data in test and training data\n",
    "\n",
    "X_train, X_test, y_train, y_test = train_test_split(X, y, test_size=0.3, random_state=42)"
   ]
  },
  {
   "cell_type": "code",
   "execution_count": 142,
   "id": "4346a1c3",
   "metadata": {},
   "outputs": [],
   "source": [
    "# scale data\n",
    "\n",
    "sc = StandardScaler()\n",
    "X_train = sc.fit_transform(X_train)\n",
    "X_test = sc.transform(X_test)\n"
   ]
  },
  {
   "cell_type": "code",
   "execution_count": 143,
   "id": "33f98a57",
   "metadata": {},
   "outputs": [],
   "source": [
    "# convert to tensors\n",
    "\n",
    "X_train = torch.from_numpy(X_train.astype(np.float32))\n",
    "X_test = torch.from_numpy(X_test.astype(np.float32))\n",
    "y_train = torch.tensor(y_train.values, dtype=torch.float32)\n",
    "y_test = torch.tensor(y_test.values, dtype=torch.float32)"
   ]
  },
  {
   "cell_type": "code",
   "execution_count": 144,
   "id": "dc1ddc90",
   "metadata": {},
   "outputs": [
    {
     "name": "stdout",
     "output_type": "stream",
     "text": [
      "159491\n"
     ]
    }
   ],
   "source": [
    "# reshape y tensors\n",
    "\n",
    "y_train = y_train.view(y_train.shape[0], 1)\n",
    "y_test = y_test.view(y_test.shape[0], 1)\n",
    "\n",
    "print(len(y_train))"
   ]
  },
  {
   "cell_type": "code",
   "execution_count": 145,
   "id": "efe2383a",
   "metadata": {},
   "outputs": [],
   "source": [
    "# Create model\n",
    "# f = wx + b, sigmoid at the end\n",
    "class LogisticRegression(nn.Module):\n",
    "\n",
    "    def __init__(self, n_input_features):\n",
    "        super(LogisticRegression, self).__init__()\n",
    "        self.linear = nn.Linear(n_input_features, 1)\n",
    "\n",
    "    def forward(self, x):\n",
    "        y_predicted = self.linear(x)\n",
    "        return y_predicted\n",
    "    \n",
    "model = LogisticRegression(n_features)"
   ]
  },
  {
   "cell_type": "code",
   "execution_count": 146,
   "id": "2466d494",
   "metadata": {},
   "outputs": [],
   "source": [
    "# Calculate class weights:\n",
    "num_neg = 200_000\n",
    "num_pos = 300\n",
    "pos_weight = torch.tensor([num_neg / num_pos])  # ≈ 666.67"
   ]
  },
  {
   "cell_type": "code",
   "execution_count": 147,
   "id": "c50d881e",
   "metadata": {},
   "outputs": [],
   "source": [
    "# Loss and optimizer\n",
    "learning_rate = 0.01\n",
    "criterion = nn.BCEWithLogitsLoss(pos_weight=pos_weight)\n",
    "optimizer = torch.optim.SGD(model.parameters(), lr=learning_rate)"
   ]
  },
  {
   "cell_type": "code",
   "execution_count": 162,
   "id": "655aeea7",
   "metadata": {},
   "outputs": [
    {
     "name": "stdout",
     "output_type": "stream",
     "text": [
      "epoch: 10, loss = 0.5810\n",
      "epoch: 20, loss = 0.5737\n",
      "epoch: 30, loss = 0.5667\n",
      "epoch: 40, loss = 0.5600\n",
      "epoch: 50, loss = 0.5536\n",
      "epoch: 60, loss = 0.5475\n",
      "epoch: 70, loss = 0.5416\n",
      "epoch: 80, loss = 0.5360\n",
      "epoch: 90, loss = 0.5306\n",
      "epoch: 100, loss = 0.5255\n"
     ]
    }
   ],
   "source": [
    "# training loop\n",
    "num_epochs = 100\n",
    "\n",
    "for epoch in range(num_epochs):\n",
    "    # forward pass and loss\n",
    "    y_predicted = model(X_train)\n",
    "    loss = criterion(y_predicted, y_train)\n",
    "    \n",
    "    # backward pass\n",
    "    loss.backward()\n",
    "    \n",
    "    # updates\n",
    "    optimizer.step()\n",
    "    \n",
    "    # zero gradients\n",
    "    optimizer.zero_grad()\n",
    "    \n",
    "    if (epoch+1) % 10 == 0:\n",
    "        print(f'epoch: {epoch+1}, loss = {loss.item():.4f}')"
   ]
  },
  {
   "cell_type": "code",
   "execution_count": 165,
   "id": "139b15a5",
   "metadata": {},
   "outputs": [
    {
     "name": "stdout",
     "output_type": "stream",
     "text": [
      "              precision    recall  f1-score   support\n",
      "\n",
      "         0.0       1.00      1.00      1.00     68248\n",
      "         1.0       0.73      0.86      0.79       106\n",
      "\n",
      "    accuracy                           1.00     68354\n",
      "   macro avg       0.86      0.93      0.89     68354\n",
      "weighted avg       1.00      1.00      1.00     68354\n",
      "\n"
     ]
    }
   ],
   "source": [
    "with torch.no_grad():\n",
    "    y_pred = torch.sigmoid(model(X_test))  # because logits output\n",
    "    y_pred_cls = y_pred > 0.95\n",
    "    print(classification_report(y_test.numpy(), y_pred_cls.numpy()))"
   ]
  }
 ],
 "metadata": {
  "kernelspec": {
   "display_name": "Python 3",
   "language": "python",
   "name": "python3"
  },
  "language_info": {
   "codemirror_mode": {
    "name": "ipython",
    "version": 3
   },
   "file_extension": ".py",
   "mimetype": "text/x-python",
   "name": "python",
   "nbconvert_exporter": "python",
   "pygments_lexer": "ipython3",
   "version": "3.13.1"
  }
 },
 "nbformat": 4,
 "nbformat_minor": 5
}
